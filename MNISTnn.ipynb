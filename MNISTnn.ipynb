{
 "cells": [
  {
   "cell_type": "code",
   "execution_count": 1,
   "metadata": {},
   "outputs": [],
   "source": [
    "import numpy as np\n",
    "import tensorflow as tf\n",
    "import matplotlib.pyplot as plt\n",
    "from tensorflow.python.framework import ops\n",
    "%matplotlib inline"
   ]
  },
  {
   "cell_type": "code",
   "execution_count": 2,
   "metadata": {},
   "outputs": [],
   "source": [
    "(x_train_orig,y_train_orig),(x_test_orig,y_test_orig) = tf.keras.datasets.mnist.load_data()"
   ]
  },
  {
   "cell_type": "code",
   "execution_count": 3,
   "metadata": {},
   "outputs": [
    {
     "name": "stdout",
     "output_type": "stream",
     "text": [
      "Index :0 Lable:5\n"
     ]
    },
    {
     "data": {
      "text/plain": [
       "<matplotlib.image.AxesImage at 0x7f1fcfcc6590>"
      ]
     },
     "execution_count": 3,
     "metadata": {},
     "output_type": "execute_result"
    },
    {
     "data": {
      "image/png": "[encoded data removed]",
      "text/plain": [
       "<Figure size 432x288 with 1 Axes>"
      ]
     },
     "metadata": {
      "needs_background": "light"
     },
     "output_type": "display_data"
    }
   ],
   "source": [
    "index = 0\n",
    "print(\"Index :{i} Lable:{l}\".format(i=index,l=y_train_orig[index]))\n",
    "plt.imshow(x_test_orig[index],cmap='Greys')"
   ]
  },
  {
   "cell_type": "code",
   "execution_count": 4,
   "metadata": {},
   "outputs": [
    {
     "name": "stdout",
     "output_type": "stream",
     "text": [
      "x_train shape : (784, 60000)\n",
      "y_train shape : (1, 60000)\n",
      "x_test shape : (784, 10000)\n",
      "y_test shape : (1, 10000)\n"
     ]
    }
   ],
   "source": [
    "x_train = x_train_orig.reshape((x_train_orig.shape[0],-1)).T\n",
    "y_train = y_train_orig.reshape((y_train_orig.shape[0],1)).T\n",
    "\n",
    "x_test = x_test_orig.reshape((x_test_orig.shape[0],-1)).T\n",
    "y_test = y_test_orig.reshape((y_test_orig.shape[0],1)).T\n",
    "\n",
    "print(\"x_train shape :\",x_train.shape)\n",
    "print(\"y_train shape :\",y_train.shape)\n",
    "print(\"x_test shape :\",x_test.shape)\n",
    "print(\"y_test shape :\",y_test.shape)"
   ]
  },
  {
   "cell_type": "code",
   "execution_count": 5,
   "metadata": {},
   "outputs": [],
   "source": [
    "x_train_flatten = x_train/255\n",
    "x_test_flatten = x_test/255"
   ]
  },
  {
   "cell_type": "code",
   "execution_count": 6,
   "metadata": {},
   "outputs": [],
   "source": [
    "def initialize_parameters(layers_dims):\n",
    "    parameters = {}\n",
    "    for l,L in enumerate(layers_dims[:-1]):\n",
    "        parameters['W'+str(l+1)] = tf.get_variable(dtype=tf.float32,shape=(layers_dims[l+1],layers_dims[l]),initializer=tf.contrib.layers.xavier_initializer(),name='W'+str(l+1))\n",
    "        parameters['b'+str(l+1)] = tf.zeros(dtype=tf.float32,shape=(layers_dims[l+1],1),name='b'+str(l+1))\n",
    "    return parameters"
   ]
  },
  {
   "cell_type": "code",
   "execution_count": 7,
   "metadata": {},
   "outputs": [
    {
     "name": "stdout",
     "output_type": "stream",
     "text": [
      "[1020, 12, 10, 5, 3, 2]\n",
      "W1 : (12,1020)\n",
      "W2 : (10,12)\n",
      "W3 : (5,10)\n",
      "W4 : (3,5)\n",
      "W5 : (2,3)\n"
     ]
    }
   ],
   "source": [
    "test_dims = [1020,12,10,5,3,2]\n",
    "print(test_dims)\n",
    "for l,L in enumerate(test_dims[:-1]):\n",
    "    print(\"W{n} : ({x},{y})\".format(n=l+1,x=test_dims[l+1],y=test_dims[l]))"
   ]
  },
  {
   "cell_type": "code",
   "execution_count": 8,
   "metadata": {},
   "outputs": [],
   "source": [
    "def shuffle(X,Y,batch_size):\n",
    "    m = X.shape[1]\n",
    "    num_batches = int(m/batch_size)\n",
    "    if (m%batch_size != 0):\n",
    "        num_batches = num_batches+1\n",
    "    indecies = np.arange(X.shape[1])\n",
    "    np.random.shuffle(indecies)\n",
    "    X_shuffled = X[:,indecies]\n",
    "    Y_shuffled = Y[:,indecies]\n",
    "    return (X_shuffled,Y_shuffled,num_batches)"
   ]
  },
  {
   "cell_type": "code",
   "execution_count": 9,
   "metadata": {},
   "outputs": [],
   "source": [
    "def get_batch(t,X,Y,batch_size):\n",
    "    m = X.shape[1]\n",
    "    i = t*batch_size\n",
    "    num_batches = int(m/batch_size)\n",
    "    if(t<num_batches):\n",
    "        batch = (X[:,i:i+batch_size],Y[:,i:i+batch_size])\n",
    "    else:\n",
    "        batch = (X[:,i:],Y[:,i:])\n",
    "    return batch"
   ]
  },
  {
   "cell_type": "code",
   "execution_count": 10,
   "metadata": {},
   "outputs": [],
   "source": [
    "def forward_prop(X,parameters,layers_dims):\n",
    "    for l,L in enumerate(layers_dims[:-2]):\n",
    "        if(l==0):\n",
    "            Z = tf.matmul(parameters['W1'],X)+parameters['b1']\n",
    "            A = tf.nn.relu(Z)\n",
    "        else:\n",
    "            Z = tf.matmul(parameters['W'+str(l+1)],A)+parameters['b'+str(l+1)]\n",
    "            A = tf.nn.relu(Z)\n",
    "    Z = tf.matmul(parameters['W'+str(len(layers_dims)-1)],A)+parameters['b'+str(len(layers_dims)-1)]\n",
    "    return Z"
   ]
  },
  {
   "cell_type": "code",
   "execution_count": 11,
   "metadata": {},
   "outputs": [
    {
     "name": "stdout",
     "output_type": "stream",
     "text": [
      "W1 b1\n",
      "W2 b2\n",
      "W3 b3\n",
      "W4 b4\n",
      "W5 b5\n"
     ]
    }
   ],
   "source": [
    "for l,L in enumerate(test_dims[:-2]):\n",
    "        if(l==0):\n",
    "#             Z = tf.add(tf.matmul(parameters['W1'],X),parameters['b1'])\n",
    "            print('W1 b1')\n",
    "#             A = tf.nn.relu(Z)\n",
    "        else:\n",
    "#             Z = tf.add(tf.matmul(parameters['W'+str(l+1)],A),parameters['b'+str(l+1)])\n",
    "            print('W{i} b{i}'.format(i=l+1))\n",
    "#             A = tf.nn.relu(Z)\n",
    "print('W{i} b{i}'.format(i=len(test_dims)-1))"
   ]
  },
  {
   "cell_type": "code",
   "execution_count": 12,
   "metadata": {},
   "outputs": [],
   "source": [
    "def compute_cost(Z,Y):\n",
    "    logits = tf.transpose(Z)\n",
    "    labels = tf.transpose(Y)\n",
    "    cost = cost = tf.reduce_mean(tf.nn.softmax_cross_entropy_with_logits(logits=logits,labels=labels))\n",
    "    return cost"
   ]
  },
  {
   "cell_type": "code",
   "execution_count": 13,
   "metadata": {},
   "outputs": [],
   "source": [
    "def placeholders(n_x,n_y):\n",
    "    x_pl = tf.placeholder(dtype=tf.float32,shape=[n_x,None])\n",
    "    y_pl = tf.placeholder(dtype=tf.float32,shape=[n_y,None])\n",
    "    return x_pl, y_pl"
   ]
  },
  {
   "cell_type": "code",
   "execution_count": 14,
   "metadata": {},
   "outputs": [],
   "source": [
    "def one_hot(lables,C):\n",
    "    with tf.compat.v1.Session() as sess:\n",
    "        C = tf.constant(C,name='C')\n",
    "        one_hot_matrix = tf.one_hot(lables,C,axis =0)\n",
    "        one_hot = sess.run(one_hot_matrix)\n",
    "    \n",
    "    return one_hot"
   ]
  },
  {
   "cell_type": "code",
   "execution_count": 15,
   "metadata": {},
   "outputs": [],
   "source": [
    "def model(X_train, Y_train, X_test, Y_test,layers_dims ,batchsize=256 ,epochs=1500 ,learning_rate=0.0001):\n",
    "    ops.reset_default_graph()  \n",
    "    \n",
    "    lables = np.unique(Y_train)\n",
    "    C = len(lables)\n",
    "    Y_train = one_hot(np.squeeze(Y_train),C)\n",
    "    Y_test = one_hot(np.squeeze(Y_test),C)\n",
    "    \n",
    "    parameters = initialize_parameters(layers_dims)\n",
    "    \n",
    "    n_x = X_train.shape[0]\n",
    "    n_y = Y_train.shape[0]\n",
    "    X,Y = placeholders(n_x,n_y)\n",
    "    \n",
    "    Z_last = forward_prop(X,parameters,layers_dims)\n",
    "                \n",
    "    cost = compute_cost(Z_last,Y)\n",
    "    \n",
    "    optimizer = tf.train.AdamOptimizer(learning_rate=learning_rate).minimize(cost)\n",
    "    \n",
    "    costs = []\n",
    "        \n",
    "    with tf.Session() as sess:\n",
    "            \n",
    "        sess.run(tf.global_variables_initializer())\n",
    "        init_parameters = sess.run(parameters)\n",
    "        for epoch in range(epochs):\n",
    "            x,y,num_batches = shuffle(X_train,Y_train,batchsize)\n",
    "            \n",
    "            epoch_cost =0\n",
    "            \n",
    "            for t in range(num_batches):\n",
    "                (x_batch,y_batch) = get_batch(t,x,y,batchsize)\n",
    "                \n",
    "                _,cost_val = sess.run([optimizer,cost],feed_dict={X:x_batch,Y:y_batch})\n",
    "                \n",
    "            epoch_cost += cost_val/x_batch.shape[1]\n",
    "            \n",
    "            if epoch%100 == 0 :\n",
    "                print(\"Cost after epoch {i} is {c}\".format(i=epoch,c=epoch_cost))\n",
    "            if epoch%5 == 0 :\n",
    "                costs.append(epoch_cost)\n",
    "            \n",
    "        parameters = sess.run(parameters)\n",
    "        print('Parameters have been trained')\n",
    "        \n",
    "        plt.plot(np.squeeze(costs))\n",
    "        plt.ylabel('cost')\n",
    "        plt.xlabel('iterations (per fives)')\n",
    "        plt.title(\"Learning rate =\" + str(learning_rate))\n",
    "        plt.show()\n",
    "        \n",
    "        correct_prediction = tf.equal(tf.argmax(Z_last,axis =1), tf.argmax(Y,axis=1))\n",
    "        accuracy = tf.reduce_mean(tf.cast(correct_prediction, \"float\"))\n",
    "        \n",
    "        print (\"Train Accuracy:\", accuracy.eval({X: X_train, Y: Y_train}))\n",
    "        print (\"Test Accuracy:\", accuracy.eval({X: X_test, Y: Y_test}))\n",
    "        \n",
    "    return parameters"
   ]
  },
  {
   "cell_type": "code",
   "execution_count": 31,
   "metadata": {},
   "outputs": [
    {
     "name": "stdout",
     "output_type": "stream",
     "text": [
      "Cost after epoch 0 is 0.08221180737018585\n",
      "Cost after epoch 100 is 1.8694147001951933e-05\n",
      "Cost after epoch 200 is 4.264314649541726e-08\n",
      "Cost after epoch 300 is 6.113079109582031e-08\n",
      "Cost after epoch 400 is 1.4758545792877461e-08\n",
      "Cost after epoch 500 is 9.287172512510248e-09\n",
      "Cost after epoch 600 is 5.988774513336163e-09\n",
      "Cost after epoch 700 is 6.726212179823202e-10\n",
      "Cost after epoch 800 is 3.8805036961520045e-10\n",
      "Cost after epoch 900 is 2.198953796828107e-10\n",
      "Cost after epoch 1000 is 5.135101233122441e-09\n",
      "Cost after epoch 1100 is 3.621803967845949e-10\n",
      "Cost after epoch 1200 is 0.0\n",
      "Cost after epoch 1300 is 3.880510033675103e-11\n",
      "Cost after epoch 1400 is 0.0\n",
      "Parameters have been trained\n"
     ]
    },
    {
     "data": {
      "image/png": "[encoded data removed]",
      "text/plain": [
       "<Figure size 432x288 with 1 Axes>"
      ]
     },
     "metadata": {
      "needs_background": "light"
     },
     "output_type": "display_data"
    },
    {
     "name": "stdout",
     "output_type": "stream",
     "text": [
      "Train Accuracy: 1.0\n",
      "Test Accuracy: 0.9654\n"
     ]
    }
   ],
   "source": [
    "layers_dims = [x_train.shape[0],100,50,10]\n",
    "parameters = model(x_train,y_train,x_test,y_test,layers_dims)"
   ]
  },
  {
   "cell_type": "code",
   "execution_count": 141,
   "metadata": {},
   "outputs": [],
   "source": [
    "def predict(X,Y,parameters):\n",
    "    X_ph = tf.placeholder(dtype=tf.float32,shape=[X.shape[0],None])\n",
    "    Z_last = forward_prop(X_ph,parameters,layers_dims)\n",
    "    with tf.Session() as sess:\n",
    "        Y_prediciton = sess.run(Z_last,feed_dict={X_ph:X})\n",
    "        Y_prediction = np.argmax(Y_prediciton)\n",
    "        print(Y_prediction==Y)"
   ]
  },
  {
   "cell_type": "code",
   "execution_count": 142,
   "metadata": {
    "scrolled": true
   },
   "outputs": [
    {
     "name": "stdout",
     "output_type": "stream",
     "text": [
      "True\n"
     ]
    },
    {
     "data": {
      "image/png": "[encoded data removed]",
      "text/plain": [
       "<Figure size 432x288 with 1 Axes>"
      ]
     },
     "metadata": {
      "needs_background": "light"
     },
     "output_type": "display_data"
    }
   ],
   "source": [
    "index = 23\n",
    "input_x = x_test[:,index].reshape(-1,1)\n",
    "input_y = y_test[0,index]\n",
    "plt.imshow(x_test[:,index].T.reshape(28,28),cmap='Greys')\n",
    "predict(input_x, input_y, parameters)"
   ]
  },
  {
   "cell_type": "code",
   "execution_count": 213,
   "metadata": {},
   "outputs": [],
   "source": [
    "def get_wrong_predictions(X,Y,parameters):\n",
    "    X_ph = tf.placeholder(dtype=tf.float32,shape=[X.shape[0],None])\n",
    "    Z_last = forward_prop(X_ph,parameters,layers_dims)\n",
    "    with tf.Session() as sess:\n",
    "        \n",
    "        count=0\n",
    "        \n",
    "        for i in range(X.shape[1]):\n",
    "            test_case = X[:,i].reshape(-1,1)\n",
    "            Z_p = np.argmax(np.squeeze(sess.run(Z_last,feed_dict={X_ph:test_case})))\n",
    "            \n",
    "            if Z_p != Y[0,i]:\n",
    "                print(\"Predicted :{p} Lable:{l}\".format(p=Z_p,l=Y[0,i]))\n",
    "                count += 1\n",
    "    \n",
    "    print(\"Total Wrong Predictions :\",count)\n",
    "    print(\"EOF\")"
   ]
  },
  {
   "cell_type": "code",
   "execution_count": 214,
   "metadata": {
    "scrolled": true
   },
   "outputs": [
    {
     "name": "stdout",
     "output_type": "stream",
     "text": [
      "Predicted :4 Lable:9\n",
      "Predicted :8 Lable:2\n",
      "Predicted :1 Lable:7\n",
      "Predicted :9 Lable:2\n",
      "Predicted :2 Lable:4\n",
      "Predicted :1 Lable:8\n",
      "Predicted :9 Lable:8\n",
      "Predicted :3 Lable:7\n",
      "Predicted :1 Lable:9\n",
      "Predicted :7 Lable:2\n",
      "Predicted :5 Lable:8\n",
      "Predicted :0 Lable:6\n",
      "Predicted :9 Lable:4\n",
      "Predicted :8 Lable:9\n",
      "Predicted :0 Lable:8\n",
      "Predicted :5 Lable:3\n",
      "Predicted :7 Lable:3\n",
      "Predicted :2 Lable:8\n",
      "Predicted :9 Lable:4\n",
      "Predicted :8 Lable:1\n",
      "Predicted :9 Lable:3\n",
      "Predicted :9 Lable:2\n",
      "Predicted :4 Lable:7\n",
      "Predicted :4 Lable:8\n",
      "Predicted :6 Lable:0\n",
      "Predicted :8 Lable:5\n",
      "Predicted :9 Lable:4\n",
      "Predicted :3 Lable:8\n",
      "Predicted :5 Lable:8\n",
      "Predicted :9 Lable:7\n",
      "Predicted :2 Lable:8\n",
      "Predicted :3 Lable:9\n",
      "Predicted :8 Lable:2\n",
      "Predicted :5 Lable:3\n",
      "Predicted :4 Lable:5\n",
      "Predicted :2 Lable:1\n",
      "Predicted :5 Lable:6\n",
      "Predicted :6 Lable:5\n",
      "Predicted :9 Lable:7\n",
      "Predicted :8 Lable:5\n",
      "Predicted :3 Lable:9\n",
      "Predicted :6 Lable:4\n",
      "Predicted :8 Lable:7\n",
      "Predicted :0 Lable:4\n",
      "Predicted :8 Lable:6\n",
      "Predicted :2 Lable:8\n",
      "Predicted :4 Lable:2\n",
      "Predicted :2 Lable:7\n",
      "Predicted :4 Lable:9\n",
      "Predicted :9 Lable:4\n",
      "Predicted :0 Lable:9\n",
      "Predicted :7 Lable:4\n",
      "Predicted :8 Lable:5\n",
      "Predicted :9 Lable:4\n",
      "Predicted :8 Lable:7\n",
      "Predicted :3 Lable:8\n",
      "Predicted :6 Lable:8\n",
      "Predicted :6 Lable:2\n",
      "Predicted :4 Lable:7\n",
      "Predicted :3 Lable:5\n",
      "Predicted :8 Lable:2\n",
      "Predicted :9 Lable:4\n",
      "Predicted :5 Lable:9\n",
      "Predicted :7 Lable:4\n",
      "Predicted :3 Lable:8\n",
      "Predicted :3 Lable:5\n",
      "Predicted :1 Lable:0\n",
      "Predicted :0 Lable:7\n",
      "Predicted :3 Lable:1\n",
      "Predicted :7 Lable:8\n",
      "Predicted :6 Lable:4\n",
      "Predicted :8 Lable:2\n",
      "Predicted :3 Lable:9\n",
      "Predicted :3 Lable:9\n",
      "Predicted :7 Lable:6\n",
      "Predicted :6 Lable:2\n",
      "Predicted :5 Lable:6\n",
      "Predicted :2 Lable:9\n",
      "Predicted :6 Lable:5\n",
      "Predicted :7 Lable:3\n",
      "Predicted :4 Lable:9\n",
      "Predicted :0 Lable:8\n",
      "Predicted :4 Lable:0\n",
      "Predicted :2 Lable:7\n",
      "Predicted :4 Lable:2\n",
      "Predicted :5 Lable:6\n",
      "Predicted :9 Lable:8\n",
      "Predicted :9 Lable:4\n",
      "Predicted :3 Lable:2\n",
      "Predicted :4 Lable:9\n",
      "Predicted :8 Lable:3\n",
      "Predicted :2 Lable:7\n",
      "Predicted :3 Lable:9\n",
      "Predicted :2 Lable:8\n",
      "Predicted :5 Lable:8\n",
      "Predicted :2 Lable:7\n",
      "Predicted :2 Lable:1\n",
      "Predicted :9 Lable:7\n",
      "Predicted :3 Lable:5\n",
      "Predicted :4 Lable:8\n",
      "Predicted :9 Lable:4\n",
      "Predicted :4 Lable:7\n",
      "Predicted :7 Lable:3\n",
      "Predicted :0 Lable:6\n",
      "Predicted :9 Lable:4\n",
      "Predicted :1 Lable:6\n",
      "Predicted :8 Lable:4\n",
      "Predicted :2 Lable:1\n",
      "Predicted :8 Lable:9\n",
      "Predicted :0 Lable:8\n",
      "Predicted :3 Lable:5\n",
      "Predicted :0 Lable:9\n",
      "Predicted :0 Lable:8\n",
      "Predicted :2 Lable:7\n",
      "Predicted :2 Lable:3\n",
      "Predicted :8 Lable:5\n",
      "Predicted :7 Lable:4\n",
      "Predicted :1 Lable:9\n",
      "Predicted :2 Lable:3\n",
      "Predicted :8 Lable:9\n",
      "Predicted :4 Lable:2\n",
      "Predicted :7 Lable:9\n",
      "Predicted :3 Lable:7\n",
      "Predicted :0 Lable:9\n",
      "Predicted :1 Lable:6\n",
      "Predicted :9 Lable:7\n",
      "Predicted :4 Lable:9\n",
      "Predicted :4 Lable:9\n",
      "Predicted :9 Lable:5\n",
      "Predicted :9 Lable:4\n",
      "Predicted :7 Lable:4\n",
      "Predicted :0 Lable:8\n",
      "Predicted :2 Lable:3\n",
      "Predicted :2 Lable:3\n",
      "Predicted :7 Lable:9\n",
      "Predicted :5 Lable:3\n",
      "Predicted :7 Lable:5\n",
      "Predicted :7 Lable:9\n",
      "Predicted :3 Lable:9\n",
      "Predicted :1 Lable:9\n",
      "Predicted :3 Lable:6\n",
      "Predicted :0 Lable:6\n",
      "Predicted :7 Lable:9\n",
      "Predicted :2 Lable:1\n",
      "Predicted :4 Lable:5\n",
      "Predicted :9 Lable:5\n",
      "Predicted :5 Lable:3\n",
      "Predicted :2 Lable:3\n",
      "Predicted :9 Lable:7\n",
      "Predicted :2 Lable:8\n",
      "Predicted :9 Lable:8\n",
      "Predicted :3 Lable:2\n",
      "Predicted :9 Lable:7\n",
      "Predicted :3 Lable:2\n",
      "Predicted :4 Lable:6\n",
      "Predicted :1 Lable:9\n",
      "Predicted :2 Lable:7\n",
      "Predicted :7 Lable:3\n",
      "Predicted :9 Lable:4\n",
      "Predicted :7 Lable:2\n",
      "Predicted :4 Lable:6\n",
      "Predicted :8 Lable:3\n",
      "Predicted :0 Lable:5\n",
      "Predicted :5 Lable:8\n",
      "Predicted :5 Lable:8\n",
      "Predicted :1 Lable:7\n",
      "Predicted :3 Lable:9\n",
      "Predicted :7 Lable:9\n",
      "Predicted :3 Lable:8\n",
      "Predicted :0 Lable:8\n",
      "Predicted :3 Lable:2\n",
      "Predicted :7 Lable:9\n",
      "Predicted :3 Lable:9\n",
      "Predicted :2 Lable:7\n",
      "Predicted :0 Lable:9\n",
      "Predicted :3 Lable:8\n",
      "Predicted :2 Lable:7\n",
      "Predicted :8 Lable:5\n",
      "Predicted :2 Lable:5\n",
      "Predicted :6 Lable:4\n",
      "Predicted :8 Lable:7\n",
      "Predicted :9 Lable:2\n",
      "Predicted :4 Lable:2\n",
      "Predicted :4 Lable:0\n",
      "Predicted :3 Lable:7\n",
      "Predicted :5 Lable:6\n",
      "Predicted :6 Lable:5\n",
      "Predicted :3 Lable:5\n",
      "Predicted :3 Lable:1\n",
      "Predicted :6 Lable:4\n",
      "Predicted :5 Lable:3\n",
      "Predicted :1 Lable:2\n",
      "Predicted :2 Lable:8\n",
      "Predicted :4 Lable:9\n",
      "Predicted :1 Lable:0\n",
      "Predicted :3 Lable:9\n",
      "Predicted :6 Lable:8\n",
      "Predicted :2 Lable:8\n",
      "Predicted :7 Lable:9\n",
      "Predicted :3 Lable:2\n",
      "Predicted :9 Lable:7\n",
      "Predicted :5 Lable:6\n",
      "Predicted :9 Lable:2\n",
      "Predicted :7 Lable:2\n",
      "Predicted :3 Lable:5\n",
      "Predicted :7 Lable:3\n",
      "Predicted :8 Lable:5\n",
      "Predicted :3 Lable:5\n",
      "Predicted :8 Lable:5\n",
      "Predicted :4 Lable:9\n",
      "Predicted :6 Lable:0\n",
      "Predicted :4 Lable:9\n",
      "Predicted :7 Lable:3\n",
      "Predicted :5 Lable:2\n",
      "Predicted :7 Lable:8\n",
      "Predicted :9 Lable:4\n",
      "Predicted :5 Lable:9\n",
      "Predicted :2 Lable:6\n",
      "Predicted :6 Lable:5\n",
      "Predicted :8 Lable:6\n",
      "Predicted :9 Lable:4\n",
      "Predicted :4 Lable:8\n",
      "Predicted :5 Lable:3\n",
      "Predicted :2 Lable:7\n",
      "Predicted :1 Lable:6\n",
      "Predicted :2 Lable:8\n",
      "Predicted :6 Lable:5\n",
      "Predicted :3 Lable:8\n",
      "Predicted :7 Lable:6\n",
      "Predicted :4 Lable:9\n",
      "Predicted :0 Lable:9\n",
      "Predicted :4 Lable:2\n",
      "Predicted :8 Lable:0\n",
      "Predicted :1 Lable:2\n",
      "Predicted :4 Lable:8\n",
      "Predicted :3 Lable:7\n",
      "Predicted :5 Lable:3\n",
      "Predicted :2 Lable:8\n",
      "Predicted :9 Lable:4\n",
      "Predicted :7 Lable:9\n",
      "Predicted :6 Lable:1\n",
      "Predicted :4 Lable:1\n",
      "Predicted :8 Lable:1\n",
      "Predicted :1 Lable:7\n",
      "Predicted :2 Lable:4\n",
      "Predicted :9 Lable:3\n",
      "Predicted :3 Lable:5\n",
      "Predicted :2 Lable:6\n",
      "Predicted :5 Lable:8\n",
      "Predicted :4 Lable:7\n",
      "Predicted :4 Lable:7\n",
      "Predicted :0 Lable:7\n",
      "Predicted :0 Lable:4\n",
      "Predicted :0 Lable:3\n",
      "Predicted :4 Lable:7\n",
      "Predicted :8 Lable:3\n",
      "Predicted :8 Lable:3\n",
      "Predicted :7 Lable:2\n",
      "Predicted :8 Lable:3\n",
      "Predicted :9 Lable:3\n",
      "Predicted :3 Lable:9\n",
      "Predicted :3 Lable:5\n",
      "Predicted :3 Lable:9\n",
      "Predicted :4 Lable:9\n",
      "Predicted :8 Lable:5\n",
      "Predicted :6 Lable:2\n",
      "Predicted :6 Lable:5\n",
      "Predicted :2 Lable:0\n",
      "Predicted :9 Lable:8\n",
      "Predicted :3 Lable:9\n",
      "Predicted :9 Lable:7\n",
      "Predicted :7 Lable:9\n",
      "Predicted :6 Lable:2\n",
      "Predicted :9 Lable:0\n",
      "Predicted :3 Lable:5\n",
      "Predicted :1 Lable:7\n",
      "Predicted :7 Lable:8\n",
      "Predicted :4 Lable:8\n",
      "Predicted :5 Lable:9\n",
      "Predicted :4 Lable:0\n",
      "Predicted :9 Lable:8\n",
      "Predicted :6 Lable:1\n",
      "Predicted :4 Lable:6\n",
      "Predicted :6 Lable:0\n",
      "Predicted :9 Lable:4\n",
      "Predicted :9 Lable:4\n",
      "Predicted :7 Lable:4\n",
      "Predicted :9 Lable:2\n",
      "Predicted :2 Lable:3\n",
      "Predicted :3 Lable:8\n",
      "Predicted :8 Lable:7\n",
      "Predicted :9 Lable:7\n",
      "Predicted :6 Lable:2\n",
      "Predicted :8 Lable:1\n",
      "Predicted :8 Lable:2\n",
      "Predicted :8 Lable:5\n",
      "Predicted :8 Lable:2\n",
      "Predicted :6 Lable:4\n",
      "Predicted :3 Lable:2\n",
      "Predicted :9 Lable:3\n",
      "Predicted :8 Lable:3\n",
      "Predicted :4 Lable:6\n",
      "Predicted :3 Lable:7\n",
      "Predicted :6 Lable:0\n",
      "Predicted :5 Lable:3\n",
      "Predicted :3 Lable:7\n",
      "Predicted :9 Lable:4\n",
      "Predicted :5 Lable:8\n",
      "Predicted :5 Lable:3\n",
      "Predicted :5 Lable:3\n",
      "Predicted :2 Lable:7\n",
      "Predicted :2 Lable:7\n",
      "Predicted :2 Lable:7\n",
      "Predicted :8 Lable:3\n",
      "Predicted :2 Lable:7\n",
      "Predicted :3 Lable:2\n",
      "Predicted :8 Lable:3\n",
      "Predicted :3 Lable:5\n",
      "Predicted :3 Lable:5\n",
      "Predicted :4 Lable:9\n",
      "Predicted :1 Lable:0\n",
      "Predicted :7 Lable:1\n",
      "Predicted :7 Lable:2\n",
      "Predicted :7 Lable:9\n",
      "Predicted :5 Lable:6\n",
      "Predicted :8 Lable:2\n",
      "Predicted :3 Lable:2\n",
      "Predicted :6 Lable:5\n",
      "Predicted :2 Lable:4\n",
      "Predicted :7 Lable:4\n",
      "Predicted :0 Lable:2\n",
      "Predicted :0 Lable:5\n",
      "Predicted :0 Lable:2\n",
      "Predicted :7 Lable:4\n",
      "Predicted :4 Lable:9\n",
      "Predicted :7 Lable:2\n",
      "Predicted :5 Lable:2\n",
      "Predicted :8 Lable:0\n",
      "Predicted :5 Lable:9\n",
      "Predicted :3 Lable:6\n",
      "Predicted :8 Lable:2\n",
      "Predicted :7 Lable:0\n",
      "Predicted :4 Lable:9\n",
      "Predicted :7 Lable:9\n",
      "Predicted :7 Lable:3\n",
      "Predicted :9 Lable:3\n",
      "Total Wrong Predictions : 346\n",
      "EOF\n"
     ]
    }
   ],
   "source": [
    "get_wrong_predictions(x_test,y_test,parameters)"
   ]
  },
  {
   "cell_type": "code",
   "execution_count": null,
   "metadata": {},
   "outputs": [],
   "source": []
  }
 ],
 "metadata": {
  "kernelspec": {
   "display_name": "Python 3",
   "language": "python",
   "name": "python3"
  },
  "language_info": {
   "codemirror_mode": {
    "name": "ipython",
    "version": 3
   },
   "file_extension": ".py",
   "mimetype": "text/x-python",
   "name": "python",
   "nbconvert_exporter": "python",
   "pygments_lexer": "ipython3",
   "version": "3.7.7"
  }
 },
 "nbformat": 4,
 "nbformat_minor": 4
}
