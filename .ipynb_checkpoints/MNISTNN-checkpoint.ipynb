{
 "cells": [
  {
   "cell_type": "code",
   "execution_count": 110,
   "metadata": {},
   "outputs": [],
   "source": [
    "import numpy as np\n",
    "import tensorflow as tf\n",
    "import matplotlib.pyplot as plt\n",
    "%matplotlib inline"
   ]
  },
  {
   "cell_type": "code",
   "execution_count": 2,
   "metadata": {},
   "outputs": [],
   "source": [
    "(x_train_orig,y_train_orig),(x_test_orig,y_test_orig) = tf.keras.datasets.mnist.load_data()"
   ]
  },
  {
   "cell_type": "code",
   "execution_count": 37,
   "metadata": {},
   "outputs": [
    {
     "name": "stdout",
     "output_type": "stream",
     "text": [
      "Index :0 Lable:5\n"
     ]
    },
    {
     "data": {
      "text/plain": [
       "<matplotlib.image.AxesImage at 0x2e0f2cc9648>"
      ]
     },
     "execution_count": 37,
     "metadata": {},
     "output_type": "execute_result"
    },
    {
     "data": {
      "image/png": "[encoded data removed]",
      "text/plain": [
       "<Figure size 432x288 with 1 Axes>"
      ]
     },
     "metadata": {
      "needs_background": "light"
     },
     "output_type": "display_data"
    }
   ],
   "source": [
    "index = 0\n",
    "print(\"Index :{i} Lable:{l}\".format(i=index,l=y_train_orig[index]))\n",
    "plt.imshow(x_train_orig[index],cmap='Greys')"
   ]
  },
  {
   "cell_type": "code",
   "execution_count": 73,
   "metadata": {},
   "outputs": [
    {
     "name": "stdout",
     "output_type": "stream",
     "text": [
      "x_train shape : (784, 60000)\n",
      "y_train shape : (1, 60000)\n",
      "x_test shape : (784, 10000)\n",
      "y_test shape : (1, 10000)\n"
     ]
    }
   ],
   "source": [
    "x_train = x_train_orig.reshape((x_train_orig.shape[0],-1)).T\n",
    "y_train = y_train_orig.reshape((y_train_orig.shape[0],1)).T\n",
    "\n",
    "x_test = x_test_orig.reshape((x_test_orig.shape[0],-1)).T\n",
    "y_test = y_test_orig.reshape((y_test_orig.shape[0],1)).T\n",
    "\n",
    "print(\"x_train shape :\",x_train.shape)\n",
    "print(\"y_train shape :\",y_train.shape)\n",
    "print(\"x_test shape :\",x_test.shape)\n",
    "print(\"y_test shape :\",y_test.shape)"
   ]
  },
  {
   "cell_type": "code",
   "execution_count": 5,
   "metadata": {},
   "outputs": [],
   "source": [
    "x_train_flatten = x_train/255\n",
    "x_test_flatten = x_test/255"
   ]
  },
  {
   "cell_type": "code",
   "execution_count": 6,
   "metadata": {},
   "outputs": [],
   "source": [
    "def initialize_parameters(layers_dims):\n",
    "    parameters = {}\n",
    "    for l,L in enumerate(layers_dims):\n",
    "        parameters['W'+str(l+1)] = tf.get_variable(dtype='tf.float32',shape=(layers_dims[l+1],layers_dims[l]),initializer=tf.contrib.layers.xavier_initializer())\n",
    "        parameters['b'+str(l+1)] = tf.zeros(dtype='tf.float32',shape=(layers_dims[l+1]))"
   ]
  },
  {
   "cell_type": "code",
   "execution_count": 76,
   "metadata": {},
   "outputs": [],
   "source": [
    "def shuffle(X,Y):\n",
    "#     num_batches = int(m/batch_size)\n",
    "#     if (m%batch_size != 0):\n",
    "#         num_batches = num_batches+1\n",
    "    indecies = np.arange(X.shape[1])\n",
    "    np.random.shuffle(indecies)\n",
    "    X_shuffled = X[:,indecies]\n",
    "    Y_shuffled = Y[:,indecies]\n",
    "    return (X_shuffled,Y_shuffled)"
   ]
  },
  {
   "cell_type": "code",
   "execution_count": 100,
   "metadata": {},
   "outputs": [],
   "source": [
    "def get_batches(t,X,Y,batchsize):\n",
    "    m = X.shape[1]\n",
    "    i = t*batchsize\n",
    "    num_batches = int(m/batch_size)\n",
    "    if(t<num_batches):\n",
    "        batch = (X[:,i:i+batchsize],Y[:,i:i+batchsize])\n",
    "    else:\n",
    "        batch = (X[:,i:],Y[:,i:])\n",
    "    return batch"
   ]
  },
  {
   "cell_type": "code",
   "execution_count": 101,
   "metadata": {},
   "outputs": [],
   "source": [
    "def forward_prop(X,parameters,layers_dims):\n",
    "    Z = 0\n",
    "    A = 0\n",
    "    for l,L in enumerate(layers_dims[:-2]):\n",
    "        if(l==0):\n",
    "            Z = tf.add(tf.matmul(parameters['W1'],X),parameters['b1'])\n",
    "            A = tf.nn.relu(Z)\n",
    "        else:\n",
    "            Z = tf.add(tf.matmul(parameters['W'+str(l+1)],A),parameters['b'+str(l+1)])\n",
    "            A = tf.nn.relu(Z)\n",
    "    Z = tf.add(tf.matmul(parameters['W'+str(len(layers_dims)-1)],A),parameters['b'+str(len(layers_dims)-1)])\n",
    "    return Z"
   ]
  },
  {
   "cell_type": "code",
   "execution_count": 109,
   "metadata": {},
   "outputs": [],
   "source": [
    "def compute_cost(Z,Y):\n",
    "    logits = tf.transpose(Z)\n",
    "    lables = tf.transpose(Y)\n",
    "    cost = cost = tf.reduce_mean(tf.nn.softmax_cross_entropy_with_logits(logits=logits,labels=labels))\n",
    "    return cost"
   ]
  },
  {
   "cell_type": "code",
   "execution_count": null,
   "metadata": {},
   "outputs": [],
   "source": []
  }
 ],
 "metadata": {
  "kernelspec": {
   "display_name": "Python 3",
   "language": "python",
   "name": "python3"
  },
  "language_info": {
   "codemirror_mode": {
    "name": "ipython",
    "version": 3
   },
   "file_extension": ".py",
   "mimetype": "text/x-python",
   "name": "python",
   "nbconvert_exporter": "python",
   "pygments_lexer": "ipython3",
   "version": "3.7.6"
  }
 },
 "nbformat": 4,
 "nbformat_minor": 4
}
